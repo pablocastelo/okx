{
 "cells": [
  {
   "cell_type": "code",
   "execution_count": 39,
   "id": "ad5099f6",
   "metadata": {},
   "outputs": [],
   "source": [
    "from dotenv import load_dotenv\n",
    "import os\n",
    "\n",
    "load_dotenv()\n",
    "api_key = os.getenv(\"API_KEY\")\n",
    "secret_key = os.getenv(\"SECRET_KEY\")\n",
    "passphrase = os.getenv(\"PASSPHRASE\")"
   ]
  },
  {
   "cell_type": "code",
   "execution_count": 40,
   "id": "52673371",
   "metadata": {},
   "outputs": [],
   "source": [
    "import okx.Funding as Funding"
   ]
  },
  {
   "cell_type": "code",
   "execution_count": 41,
   "id": "5e18869c",
   "metadata": {},
   "outputs": [],
   "source": [
    "flag = '0'  # '0' for live trading, '1' for paper trading\n",
    "funding = Funding.FundingAPI(api_key, secret_key, passphrase, False, flag)"
   ]
  },
  {
   "cell_type": "markdown",
   "id": "61218420",
   "metadata": {},
   "source": [
    "## Get available balance"
   ]
  },
  {
   "cell_type": "code",
   "execution_count": 42,
   "id": "9d4a4e4b",
   "metadata": {},
   "outputs": [],
   "source": [
    "bal = funding.get_balances()"
   ]
  },
  {
   "cell_type": "code",
   "execution_count": 44,
   "id": "3594e327",
   "metadata": {},
   "outputs": [
    {
     "name": "stdout",
     "output_type": "stream",
     "text": [
      "Ok. We're in\n"
     ]
    }
   ],
   "source": [
    "# msg should be empty if auth was successful\n",
    "authenticated = False\n",
    "msg = bal.get('msg', '')\n",
    "if msg == '':\n",
    "    authenticated = True\n",
    "    print(\"Ok. We're in\")\n",
    "else:\n",
    "    print(f'Authentication failed: {msg}')"
   ]
  },
  {
   "cell_type": "code",
   "execution_count": 45,
   "id": "663294bb",
   "metadata": {},
   "outputs": [
    {
     "name": "stdout",
     "output_type": "stream",
     "text": [
      "Account Balances:\n",
      "=================================\n",
      "Currency: USDT | Balance: $17.14 | Available: $17.14\n"
     ]
    }
   ],
   "source": [
    "print(\"Account Balances:\")\n",
    "print(\"=================================\")\n",
    "for b in bal['data']:\n",
    "    print(f\"Currency: {b['ccy']} | Balance: ${float(b['bal']):.2f} | Available: ${float(b['availBal']):.2f}\")"
   ]
  },
  {
   "cell_type": "code",
   "execution_count": 46,
   "id": "a03184e9",
   "metadata": {},
   "outputs": [],
   "source": [
    "ccy = 'USDT'\n",
    "valid_currencies = ['USDT']"
   ]
  },
  {
   "cell_type": "code",
   "execution_count": 48,
   "id": "27e925f7",
   "metadata": {},
   "outputs": [],
   "source": [
    "currency_bal = [b for b in bal['data'] if b['ccy'] == ccy][0]"
   ]
  },
  {
   "cell_type": "code",
   "execution_count": 49,
   "id": "82946891",
   "metadata": {},
   "outputs": [
    {
     "data": {
      "text/plain": [
       "{'availBal': '17.1436345297399497',\n",
       " 'bal': '17.1436345297399497',\n",
       " 'ccy': 'USDT',\n",
       " 'frozenBal': '0'}"
      ]
     },
     "execution_count": 49,
     "metadata": {},
     "output_type": "execute_result"
    }
   ],
   "source": [
    "currency_bal"
   ]
  },
  {
   "cell_type": "markdown",
   "id": "21e38b22",
   "metadata": {},
   "source": [
    "## Load CSV"
   ]
  },
  {
   "cell_type": "code",
   "execution_count": null,
   "id": "c20b3b70",
   "metadata": {},
   "outputs": [],
   "source": [
    "input_fn = 'in/OKX Muestra CSV - Sheet1.csv'\n",
    "\n",
    "expected_columns = ['email', 'amount']\n",
    "\n"
   ]
  },
  {
   "cell_type": "markdown",
   "id": "9a474e80",
   "metadata": {},
   "source": [
    "## Make deposits"
   ]
  },
  {
   "cell_type": "code",
   "execution_count": 24,
   "id": "d9939b1e",
   "metadata": {},
   "outputs": [],
   "source": [
    "result = funding.withdrawal(\n",
    "    ccy=ccy,\n",
    "    toAddr=\"pontabraham@gmail.com\",\n",
    "    amt=\"1\",\n",
    "    dest=\"3\"\n",
    ")"
   ]
  },
  {
   "cell_type": "code",
   "execution_count": 25,
   "id": "fb6f9e4b",
   "metadata": {},
   "outputs": [
    {
     "data": {
      "text/plain": [
       "{'code': '0',\n",
       " 'data': [{'amt': '1',\n",
       "   'ccy': 'USDT',\n",
       "   'chain': '',\n",
       "   'clientId': '',\n",
       "   'wdId': '299363896'}],\n",
       " 'msg': ''}"
      ]
     },
     "execution_count": 25,
     "metadata": {},
     "output_type": "execute_result"
    }
   ],
   "source": [
    "result"
   ]
  },
  {
   "cell_type": "code",
   "execution_count": 27,
   "id": "9b156e02",
   "metadata": {},
   "outputs": [
    {
     "data": {
      "text/plain": [
       "{'code': '0',\n",
       " 'data': [{'estCompleteTime': '04/29/2025, 6:30:24 AM',\n",
       "   'state': 'Pending withdrawal',\n",
       "   'txId': '',\n",
       "   'wdId': '299363896'}],\n",
       " 'msg': ''}"
      ]
     },
     "execution_count": 27,
     "metadata": {},
     "output_type": "execute_result"
    }
   ],
   "source": [
    "funding.get_deposit_withdraw_status(\n",
    "    wdId=result['data'][0]['wdId']\n",
    ")"
   ]
  },
  {
   "cell_type": "code",
   "execution_count": null,
   "id": "1600fda6",
   "metadata": {},
   "outputs": [],
   "source": []
  }
 ],
 "metadata": {
  "kernelspec": {
   "display_name": "okx",
   "language": "python",
   "name": "python3"
  },
  "language_info": {
   "codemirror_mode": {
    "name": "ipython",
    "version": 3
   },
   "file_extension": ".py",
   "mimetype": "text/x-python",
   "name": "python",
   "nbconvert_exporter": "python",
   "pygments_lexer": "ipython3",
   "version": "3.13.3"
  }
 },
 "nbformat": 4,
 "nbformat_minor": 5
}
