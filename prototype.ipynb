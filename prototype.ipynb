{
 "cells": [
  {
   "cell_type": "code",
   "execution_count": 1,
   "id": "ad5099f6",
   "metadata": {},
   "outputs": [],
   "source": [
    "from dotenv import load_dotenv\n",
    "import os\n",
    "\n",
    "load_dotenv()\n",
    "api_key = os.getenv(\"API_KEY\")\n",
    "secret_key = os.getenv(\"SECRET_KEY\")\n",
    "passphrase = os.getenv(\"PASSPHRASE\")"
   ]
  },
  {
   "cell_type": "code",
   "execution_count": 2,
   "id": "52673371",
   "metadata": {},
   "outputs": [],
   "source": [
    "import okx.Funding as Funding"
   ]
  },
  {
   "cell_type": "code",
   "execution_count": 3,
   "id": "5e18869c",
   "metadata": {},
   "outputs": [],
   "source": [
    "flag = '0'  # '0' for live trading, '1' for paper trading\n",
    "funding = Funding.FundingAPI(api_key, secret_key, passphrase, False, flag)"
   ]
  },
  {
   "cell_type": "markdown",
   "id": "61218420",
   "metadata": {},
   "source": [
    "## Get available balance"
   ]
  },
  {
   "cell_type": "code",
   "execution_count": 4,
   "id": "9d4a4e4b",
   "metadata": {},
   "outputs": [],
   "source": [
    "bal = funding.get_balances()"
   ]
  },
  {
   "cell_type": "code",
   "execution_count": 6,
   "id": "3594e327",
   "metadata": {},
   "outputs": [
    {
     "data": {
      "text/plain": [
       "{'msg': \"Your IP 24.90.224.254 is not included in your API key's 686e87c6-b331-48b2-a79d-642630baba63 IP whitelist.\",\n",
       " 'code': '50110'}"
      ]
     },
     "execution_count": 6,
     "metadata": {},
     "output_type": "execute_result"
    }
   ],
   "source": [
    "bal"
   ]
  },
  {
   "cell_type": "code",
   "execution_count": 5,
   "id": "663294bb",
   "metadata": {},
   "outputs": [
    {
     "name": "stdout",
     "output_type": "stream",
     "text": [
      "Account Balances:\n",
      "=================================\n"
     ]
    },
    {
     "ename": "KeyError",
     "evalue": "'data'",
     "output_type": "error",
     "traceback": [
      "\u001b[31m---------------------------------------------------------------------------\u001b[39m",
      "\u001b[31mKeyError\u001b[39m                                  Traceback (most recent call last)",
      "\u001b[36mCell\u001b[39m\u001b[36m \u001b[39m\u001b[32mIn[5]\u001b[39m\u001b[32m, line 3\u001b[39m\n\u001b[32m      1\u001b[39m \u001b[38;5;28mprint\u001b[39m(\u001b[33m\"\u001b[39m\u001b[33mAccount Balances:\u001b[39m\u001b[33m\"\u001b[39m)\n\u001b[32m      2\u001b[39m \u001b[38;5;28mprint\u001b[39m(\u001b[33m\"\u001b[39m\u001b[33m=================================\u001b[39m\u001b[33m\"\u001b[39m)\n\u001b[32m----> \u001b[39m\u001b[32m3\u001b[39m \u001b[38;5;28;01mfor\u001b[39;00m b \u001b[38;5;129;01min\u001b[39;00m \u001b[43mbal\u001b[49m\u001b[43m[\u001b[49m\u001b[33;43m'\u001b[39;49m\u001b[33;43mdata\u001b[39;49m\u001b[33;43m'\u001b[39;49m\u001b[43m]\u001b[49m:\n\u001b[32m      4\u001b[39m     \u001b[38;5;28mprint\u001b[39m(\u001b[33mf\u001b[39m\u001b[33m\"\u001b[39m\u001b[33mCurrency: \u001b[39m\u001b[38;5;132;01m{\u001b[39;00mb[\u001b[33m'\u001b[39m\u001b[33mccy\u001b[39m\u001b[33m'\u001b[39m]\u001b[38;5;132;01m}\u001b[39;00m\u001b[33m | Balance: $\u001b[39m\u001b[38;5;132;01m{\u001b[39;00m\u001b[38;5;28mfloat\u001b[39m(b[\u001b[33m'\u001b[39m\u001b[33mbal\u001b[39m\u001b[33m'\u001b[39m])\u001b[38;5;132;01m:\u001b[39;00m\u001b[33m.2f\u001b[39m\u001b[38;5;132;01m}\u001b[39;00m\u001b[33m | Available: $\u001b[39m\u001b[38;5;132;01m{\u001b[39;00m\u001b[38;5;28mfloat\u001b[39m(b[\u001b[33m'\u001b[39m\u001b[33mavailBal\u001b[39m\u001b[33m'\u001b[39m])\u001b[38;5;132;01m:\u001b[39;00m\u001b[33m.2f\u001b[39m\u001b[38;5;132;01m}\u001b[39;00m\u001b[33m\"\u001b[39m)\n",
      "\u001b[31mKeyError\u001b[39m: 'data'"
     ]
    }
   ],
   "source": [
    "print(\"Account Balances:\")\n",
    "print(\"=================================\")\n",
    "for b in bal['data']:\n",
    "    print(f\"Currency: {b['ccy']} | Balance: ${float(b['bal']):.2f} | Available: ${float(b['availBal']):.2f}\")"
   ]
  },
  {
   "cell_type": "code",
   "execution_count": null,
   "id": "a03184e9",
   "metadata": {},
   "outputs": [],
   "source": [
    "ccy = 'USDT'"
   ]
  },
  {
   "cell_type": "code",
   "execution_count": 22,
   "id": "27e925f7",
   "metadata": {},
   "outputs": [],
   "source": [
    "usdt_bal = [b for b in bal['data'] if b['ccy'] == ccy][0]"
   ]
  },
  {
   "cell_type": "markdown",
   "id": "9a474e80",
   "metadata": {},
   "source": [
    "## Make deposits"
   ]
  },
  {
   "cell_type": "code",
   "execution_count": 24,
   "id": "d9939b1e",
   "metadata": {},
   "outputs": [],
   "source": [
    "result = funding.withdrawal(\n",
    "    ccy=ccy,\n",
    "    toAddr=\"pontabraham@gmail.com\",\n",
    "    amt=\"1\",\n",
    "    dest=\"3\"\n",
    ")"
   ]
  },
  {
   "cell_type": "code",
   "execution_count": 25,
   "id": "fb6f9e4b",
   "metadata": {},
   "outputs": [
    {
     "data": {
      "text/plain": [
       "{'code': '0',\n",
       " 'data': [{'amt': '1',\n",
       "   'ccy': 'USDT',\n",
       "   'chain': '',\n",
       "   'clientId': '',\n",
       "   'wdId': '299363896'}],\n",
       " 'msg': ''}"
      ]
     },
     "execution_count": 25,
     "metadata": {},
     "output_type": "execute_result"
    }
   ],
   "source": [
    "result"
   ]
  },
  {
   "cell_type": "code",
   "execution_count": 27,
   "id": "9b156e02",
   "metadata": {},
   "outputs": [
    {
     "data": {
      "text/plain": [
       "{'code': '0',\n",
       " 'data': [{'estCompleteTime': '04/29/2025, 6:30:24 AM',\n",
       "   'state': 'Pending withdrawal',\n",
       "   'txId': '',\n",
       "   'wdId': '299363896'}],\n",
       " 'msg': ''}"
      ]
     },
     "execution_count": 27,
     "metadata": {},
     "output_type": "execute_result"
    }
   ],
   "source": [
    "funding.get_deposit_withdraw_status(\n",
    "    wdId=result['data'][0]['wdId']\n",
    ")"
   ]
  },
  {
   "cell_type": "code",
   "execution_count": null,
   "id": "1600fda6",
   "metadata": {},
   "outputs": [],
   "source": []
  }
 ],
 "metadata": {
  "kernelspec": {
   "display_name": "okx",
   "language": "python",
   "name": "python3"
  },
  "language_info": {
   "codemirror_mode": {
    "name": "ipython",
    "version": 3
   },
   "file_extension": ".py",
   "mimetype": "text/x-python",
   "name": "python",
   "nbconvert_exporter": "python",
   "pygments_lexer": "ipython3",
   "version": "3.13.3"
  }
 },
 "nbformat": 4,
 "nbformat_minor": 5
}
